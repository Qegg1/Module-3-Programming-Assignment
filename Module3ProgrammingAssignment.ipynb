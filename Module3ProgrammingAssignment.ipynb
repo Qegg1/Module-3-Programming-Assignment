{
 "cells": [
  {
   "cell_type": "code",
   "execution_count": null,
   "id": "32e65bc9-aa2a-4781-bda9-7bb09602047b",
   "metadata": {},
   "outputs": [],
   "source": [
    "\"\"\"\n",
    "things = [\"MOZZARELLA\", \"Cinderella\"]\n",
    "\n",
    "print(things)\n",
    "\"\"\"\n",
    "\n",
    "\"\"\"\n",
    "def good():\n",
    "    return [\"Harry\", \"Ron\", \"Hermione\"] \n",
    "\n",
    "names = good()\n",
    "print(names)\n",
    "\"\"\"\n",
    "\n",
    "def get_odds():\n",
    "    return (i for i in range(10) if i % 2 != 0)\n",
    "for i in get_odds():\n",
    "    print(i)"
   ]
  }
 ],
 "metadata": {
  "kernelspec": {
   "display_name": "Python 3 (ipykernel)",
   "language": "python",
   "name": "python3"
  },
  "language_info": {
   "codemirror_mode": {
    "name": "ipython",
    "version": 3
   },
   "file_extension": ".py",
   "mimetype": "text/x-python",
   "name": "python",
   "nbconvert_exporter": "python",
   "pygments_lexer": "ipython3",
   "version": "3.12.4"
  }
 },
 "nbformat": 4,
 "nbformat_minor": 5
}
